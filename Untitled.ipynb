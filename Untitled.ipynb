{
 "cells": [
  {
   "cell_type": "code",
   "execution_count": 11,
   "metadata": {},
   "outputs": [
    {
     "name": "stdout",
     "output_type": "stream",
     "text": [
      "0.18.5\n"
     ]
    }
   ],
   "source": [
    "import ktrain\n",
    "from ktrain import text\n",
    "import pandas as pd"
   ]
  },
  {
   "cell_type": "code",
   "execution_count": 18,
   "metadata": {},
   "outputs": [
    {
     "name": "stdout",
     "output_type": "stream",
     "text": [
      "привет : hi 1.0\n",
      "пока : by 1.0\n",
      "добрый вечер : hi 0.9991283\n",
      "добрый день : hi 1.0\n",
      "хорошего вечера : by 0.9999666\n",
      "хорошего дня : by 1.0\n"
     ]
    }
   ],
   "source": [
    "predictor = ktrain.load_predictor(\"predictor_fasttext\")\n",
    "import numpy as np\n",
    "bag_of_words = [\n",
    "                \"привет\",\n",
    "                \"пока\",\n",
    "                \"добрый вечер\",\n",
    "                \"добрый день\",\n",
    "                \"хорошего вечера\",\n",
    "                \"хорошего дня\"]\n",
    "\n",
    "for word in bag_of_words:\n",
    "    print(word + ' : ' + predictor.predict(word) + ' ' + str(np.max(predictor.predict_proba(word))))"
   ]
  },
  {
   "cell_type": "code",
   "execution_count": null,
   "metadata": {},
   "outputs": [],
   "source": []
  }
 ],
 "metadata": {
  "kernelspec": {
   "display_name": "Python 3",
   "language": "python",
   "name": "python3"
  },
  "language_info": {
   "codemirror_mode": {
    "name": "ipython",
    "version": 3
   },
   "file_extension": ".py",
   "mimetype": "text/x-python",
   "name": "python",
   "nbconvert_exporter": "python",
   "pygments_lexer": "ipython3",
   "version": "3.7.3"
  }
 },
 "nbformat": 4,
 "nbformat_minor": 4
}
